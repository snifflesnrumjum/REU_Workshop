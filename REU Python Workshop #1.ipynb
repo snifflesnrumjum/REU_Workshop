{
 "cells": [
  {
   "cell_type": "markdown",
   "metadata": {},
   "source": [
    "# Introduction\n",
    "Introduce the basics of the Python programming language and provide some examples for uses in data analysis. We'll be looking at the basics of the language itself, how to load data files, how to plot data, etc. While we won't cover everything here, I've tried to include some examples of the code that you can modify for your own needs. "
   ]
  },
  {
   "cell_type": "markdown",
   "metadata": {},
   "source": [
    "![Python Logo](https://www.python.org/static/img/python-logo.png)\n",
    "\n",
    "### What is Python?\n",
    "Simply put Python is a programming language. It's a useful scripting language. But as the [website]('https://www.python.org') itself says:<br>\n",
    "<br>\n",
    "><i>Python is a programming language that lets you work quickly\n",
    "      and integrate systems more effectively. </i>  <br>\n",
    "      \n",
    "      \n",
    "It can do almost anything you need! "
   ]
  },
  {
   "cell_type": "markdown",
   "metadata": {},
   "source": [
    "## Goals for today:\n",
    "1. Define and use variables\n",
    "2. Create and use a function\n",
    "3. Load a CSV file\n",
    "4. Plot data from the CSV file\n",
    "<br><br>\n",
    "Let's get started!"
   ]
  },
  {
   "cell_type": "code",
   "execution_count": 3,
   "metadata": {},
   "outputs": [],
   "source": [
    "a = 1         # Defining the variable 'a' and setting it equal to an integer with a value of 1\n",
    "b = 'Hello'   # Defining a second variable and setting equal to a string of text\n",
    "c = '1234'    # A third variable with a string of text but this time the text is numerical\n",
    "this_is_a_longer_variable_name = 1  # A longer variable name that is perfectly valid"
   ]
  },
  {
   "cell_type": "markdown",
   "metadata": {},
   "source": [
    "# Core language"
   ]
  },
  {
   "cell_type": "markdown",
   "metadata": {},
   "source": [
    "# A. Variables\n",
    "\n",
    "First, what's a variable? <br>\n",
    "In the programming context, it's a signifier that represents some value or object. That's a little obtuse for a definition so let's jump right in and check out what I mean.\n",
    "\n",
    "The syntax we'll use most often will be the following:\n",
    "\n",
    "<code>variable_name = some_value</code>\n",
    "\n",
    "Variable names can be almost anything you want. The main limitations are that it cannot start with a number and it cannot contain a space or special characters other than an underscore -->  _ \n",
    "\n",
    "They can be a single letter long (as shown below) or they can be a short phrase (to make it clear what that code does). But keep them reasonable. Remember you'll need to type them in and if they're too long it will make your code look terrible. "
   ]
  },
  {
   "cell_type": "code",
   "execution_count": 7,
   "metadata": {},
   "outputs": [],
   "source": [
    "s = 'Ice cream'            # A string\n",
    "f = [1, 2, 3, 4]           # A list\n",
    "d = 3.1415928              # A floating point number\n",
    "i = 5                      # An integer\n",
    "b = True                   # A boolean value"
   ]
  },
  {
   "cell_type": "markdown",
   "metadata": {},
   "source": [
    "We defined five variables above. Now that they're defined in the code, once we run that cell above, they will be created and stored in memory for our current session. If we close Python, we'll have to re-run the code in order to recreate those four variables. <br><br>\n",
    "#### What's the '#' along with that blue text? <br>\n",
    "These are comments in Python. They are there to help you state what is going on, what a variable should be/represent, and to help anyone else who might read your code. And more often than not, they help **YOU** remember what the code should do when you go back and read it in a month, 2 months, a year....\n",
    "\n",
    "\n",
    "Comments are not considered part of the code. Comments are useful for explaining what a bit of code does. ___USE COMMENTS___\n",
    "\n",
    "Now let's use those variables.\n",
    "\n",
    "We can evaluate simple things:"
   ]
  },
  {
   "cell_type": "code",
   "execution_count": 1,
   "metadata": {},
   "outputs": [
    {
     "name": "stdout",
     "output_type": "stream",
     "text": [
      "5 8.1415 0.6141374439599582\n"
     ]
    }
   ],
   "source": [
    "a = 5\n",
    "b = a + 3.1415\n",
    "c = a / b  # What about a // b? b // a ? \n",
    "\n",
    "print(a, b, c)"
   ]
  },
  {
   "cell_type": "markdown",
   "metadata": {},
   "source": [
    "Note, we did not need to declare variable types (like in fortran), we could just assign anything to a variable and it works. This is the power of an interpreted (as opposed to compiled) language. Also, we can add different types (`a` is an integer, and we add the float 3.1415 to get `b`). The result is 'upcast' to whatever data type can handle the result. I.e., adding a float and an int results in a float."
   ]
  },
  {
   "cell_type": "markdown",
   "metadata": {},
   "source": [
    "You can see what `type` a variable has by using the `type` function, like"
   ]
  },
  {
   "cell_type": "code",
   "execution_count": 8,
   "metadata": {},
   "outputs": [
    {
     "data": {
      "text/plain": [
       "bool"
      ]
     },
     "execution_count": 8,
     "metadata": {},
     "output_type": "execute_result"
    }
   ],
   "source": [
    "type(b)"
   ]
  },
  {
   "cell_type": "markdown",
   "metadata": {},
   "source": [
    "---\n",
    "### *Exercise*\n",
    "\n",
    "> Use `type` to see the types of the other variables\n",
    "\n",
    "---"
   ]
  },
  {
   "cell_type": "code",
   "execution_count": 9,
   "metadata": {},
   "outputs": [
    {
     "data": {
      "text/plain": [
       "int"
      ]
     },
     "execution_count": 9,
     "metadata": {},
     "output_type": "execute_result"
    }
   ],
   "source": [
    "type(a)"
   ]
  },
  {
   "cell_type": "markdown",
   "metadata": {},
   "source": [
    "You can test to see if a variable is a particular type by using the `isinstance(var, type)` function."
   ]
  },
  {
   "cell_type": "code",
   "execution_count": 10,
   "metadata": {},
   "outputs": [
    {
     "data": {
      "text/plain": [
       "True"
      ]
     },
     "execution_count": 10,
     "metadata": {},
     "output_type": "execute_result"
    }
   ],
   "source": [
    "isinstance(s, str)  # is s a string?"
   ]
  },
  {
   "cell_type": "code",
   "execution_count": 11,
   "metadata": {},
   "outputs": [
    {
     "data": {
      "text/plain": [
       "False"
      ]
     },
     "execution_count": 11,
     "metadata": {},
     "output_type": "execute_result"
    }
   ],
   "source": [
    "isinstance(f, int)  # is f an integer?"
   ]
  },
  {
   "cell_type": "markdown",
   "metadata": {},
   "source": [
    "#### Okay, but....\n",
    "How do I know what kinds of types are available to check for? In other words, how do I know that 'str' represents string to Python? \n",
    "You can find the available types in the [Python Documentation](https://docs.python.org/3/library/stdtypes.html). Scrolling down that page you'll see types such as:\n",
    "1. Numeric  --> int, float, complex\n",
    "2. Sequence --> list, tuple, range\n",
    "3. Text     --> str\n",
    "4. Set      --> set, frozenset\n",
    "            \n",
    "and others."
   ]
  },
  {
   "cell_type": "markdown",
   "metadata": {},
   "source": [
    "# B. Strings\n",
    "\n",
    "Strings are made using various kinds of (matching) quotes. Examples:"
   ]
  },
  {
   "cell_type": "code",
   "execution_count": 23,
   "metadata": {},
   "outputs": [
    {
     "name": "stdout",
     "output_type": "stream",
     "text": [
      "world 5\n",
      "trey\n",
      "\n",
      "\n",
      "hey\n"
     ]
    }
   ],
   "source": [
    "s1 = 'hello'\n",
    "s2 = \"world\"\n",
    "s3 = '''strings can \n",
    "also go 'over'\n",
    "multiple \"lines\".'''\n",
    "\n",
    "s1 = 'trey\\n\\n\\nhey'\n",
    "\n",
    "print(s2, a)\n",
    "s2\n",
    "print(s1)"
   ]
  },
  {
   "cell_type": "code",
   "execution_count": 19,
   "metadata": {
    "scrolled": true
   },
   "outputs": [
    {
     "name": "stdout",
     "output_type": "stream",
     "text": [
      "strings can \n",
      "also go 'over'\n",
      "multiple \"lines\".\n"
     ]
    }
   ],
   "source": [
    "print(s3)"
   ]
  },
  {
   "cell_type": "markdown",
   "metadata": {},
   "source": [
    "You can also 'add' strings using 'operator overloading', meaning that the plus sign can take on different meanings depending on the data types of the variables you are using it on."
   ]
  },
  {
   "cell_type": "code",
   "execution_count": 20,
   "metadata": {},
   "outputs": [
    {
     "name": "stdout",
     "output_type": "stream",
     "text": [
      "hello world\n"
     ]
    }
   ],
   "source": [
    "print( s1 + ' ' + s2)  # note, we need the space otherwise we would get 'helloworld'"
   ]
  },
  {
   "cell_type": "markdown",
   "metadata": {},
   "source": [
    "This turns out to be very handy when creating filenames or full file paths pointing to your data file(s)."
   ]
  },
  {
   "cell_type": "code",
   "execution_count": 8,
   "metadata": {},
   "outputs": [
    {
     "name": "stdout",
     "output_type": "stream",
     "text": [
      "D:/data/25May2021/my_awesome_dataset.csv\n"
     ]
    }
   ],
   "source": [
    "main_directory = 'D:/data'\n",
    "day_directory = '25May2021'\n",
    "data_file = 'my_awesome_dataset.csv'\n",
    "print(main_directory + '/' + day_directory + '/' + data_file)"
   ]
  },
  {
   "cell_type": "markdown",
   "metadata": {},
   "source": [
    "Quicker way to do the same thing as above:"
   ]
  },
  {
   "cell_type": "code",
   "execution_count": 12,
   "metadata": {},
   "outputs": [
    {
     "name": "stdout",
     "output_type": "stream",
     "text": [
      "D:/data/25May2021/my_awesome_dataset.csv\n",
      "D:/data__12345__25May2021__12345__my_awesome_dataset.csv\n"
     ]
    }
   ],
   "source": [
    "#this will join the different strings together using whatever is between '' as a separator\n",
    "print('/'.join([main_directory, day_directory, data_file]))\n",
    "\n",
    "#Anything can be in there\n",
    "print('__12345__'.join([main_directory, day_directory, data_file]))\n"
   ]
  },
  {
   "cell_type": "markdown",
   "metadata": {},
   "source": [
    "We'll cover those square brackets a little later. "
   ]
  },
  {
   "cell_type": "markdown",
   "metadata": {},
   "source": [
    "We can include special characters in strings. For example `\\n` gives a newline, `\\t` a tab, etc. Notice that the multiple line string above (`s3`) is converted to a single quote string with the newlines 'escaped' out with `\\n`."
   ]
  },
  {
   "cell_type": "code",
   "execution_count": null,
   "metadata": {},
   "outputs": [],
   "source": [
    "s3.upper()"
   ]
  },
  {
   "cell_type": "markdown",
   "metadata": {},
   "source": [
    "Strings are 'objects' in that they have 'methods'. Methods are functions that act on the particular instance of an object. In this case it's a string object. You can access the methods by putting a dot after the variable name and then the method name with parentheses (and any arguments to the method within the parentheses). Methods always have to have parentheses, even if they are empty."
   ]
  },
  {
   "cell_type": "code",
   "execution_count": null,
   "metadata": {},
   "outputs": [],
   "source": [
    "s3.capitalize()"
   ]
  },
  {
   "cell_type": "markdown",
   "metadata": {},
   "source": [
    "One of the most useful string methods is 'split' that returns a list of the words in a string, with all of the whitespace (actual spaces, newlines, and tabs) removed. More on lists next."
   ]
  },
  {
   "cell_type": "code",
   "execution_count": null,
   "metadata": {},
   "outputs": [],
   "source": [
    "s3.split()"
   ]
  },
  {
   "cell_type": "markdown",
   "metadata": {},
   "source": [
    "Strings are variables that are often text-based. But this <b>doesn't</b> mean it has to be actual text (i.e. letters). Strings can also contain numbers, however, they won't treated as an actual number unless converted into a different type. "
   ]
  },
  {
   "cell_type": "code",
   "execution_count": null,
   "metadata": {},
   "outputs": [],
   "source": [
    "s4 = '5'   # this is a string even though the string itself is a number\n",
    "s5 = '7'   # another string"
   ]
  },
  {
   "cell_type": "markdown",
   "metadata": {},
   "source": [
    "What will happen if we add these strings together?"
   ]
  },
  {
   "cell_type": "code",
   "execution_count": null,
   "metadata": {},
   "outputs": [],
   "source": [
    "s4 + s5"
   ]
  },
  {
   "cell_type": "markdown",
   "metadata": {},
   "source": [
    "In this case it combined the two strings together into a new string. If we wanted to add the actual numbers together, we would need to convert them to numbers first. We can do this using the built-in `int` or `float` functions. "
   ]
  },
  {
   "cell_type": "markdown",
   "metadata": {},
   "source": [
    "```python\n",
    "    int(variable_to_convert)\n",
    "```"
   ]
  },
  {
   "cell_type": "code",
   "execution_count": null,
   "metadata": {},
   "outputs": [],
   "source": [
    "int(s4) + int(s5)"
   ]
  },
  {
   "cell_type": "markdown",
   "metadata": {},
   "source": [
    "Note that we have to apply the `int` function to each variable first, then add. Otherwise, we would end up with a `str` of 57 that would then be converted into an `int` of 57. "
   ]
  },
  {
   "cell_type": "code",
   "execution_count": null,
   "metadata": {},
   "outputs": [],
   "source": [
    "int(s4 + s5)"
   ]
  },
  {
   "cell_type": "markdown",
   "metadata": {},
   "source": [
    "Suffice to say, the order of operations is important!"
   ]
  },
  {
   "cell_type": "markdown",
   "metadata": {},
   "source": [
    "#### Why variables?\n",
    "That's all fun and such but why would variables come in handy? Why not just type the number 1 in instead of going through the process of creating a variable?\n",
    "\n",
    "It all comes down to **re-use** of values. Imagine if I needed to use the value of 1 in many different places (e.g. 100 different places) throughout my code. We could just as easily enter the number '1' in there instead of the variable 'a'. Now imagine you wanted to change the value to be '2'..... You would have to go through all 100 entries and change them to be a '2'. *OR* you could just change the value of 'a' to be equal to '2'.\n",
    "\n",
    "\n",
    "Let's look a formula we're all familiar with:\n",
    "> a<sup>2</sup> + b<sup>2</sup> = c<sup>2</sup>\n",
    "\n",
    "Except that in code it will look like this: \n",
    "> c<sup>2</sup> = a<sup>2</sup> + b<sup>2</sup>\n",
    "\n",
    "In order to calculate c<sup>2</sup> we'll need to square `a` and `b`, then add them together. First we'll redefine `a` and `b` since the string in `b` won't make sense. "
   ]
  },
  {
   "cell_type": "code",
   "execution_count": 13,
   "metadata": {},
   "outputs": [
    {
     "data": {
      "text/plain": [
       "25"
      ]
     },
     "execution_count": 13,
     "metadata": {},
     "output_type": "execute_result"
    }
   ],
   "source": [
    "a = 3\n",
    "b = 4\n",
    "\n",
    "a**2 + b**2   # The ** means 'raise to the power of'"
   ]
  },
  {
   "cell_type": "markdown",
   "metadata": {},
   "source": [
    "Great! Now let's capture the output from this so that we can use it later on if we need to do so."
   ]
  },
  {
   "cell_type": "code",
   "execution_count": 14,
   "metadata": {},
   "outputs": [],
   "source": [
    "c_squared = a**2 + b**2  # Here we are defining 'c' as the result of using a and b"
   ]
  },
  {
   "cell_type": "code",
   "execution_count": 15,
   "metadata": {},
   "outputs": [
    {
     "name": "stdout",
     "output_type": "stream",
     "text": [
      "25\n"
     ]
    }
   ],
   "source": [
    "#Let's view c\n",
    "print(c_squared)"
   ]
  },
  {
   "cell_type": "markdown",
   "metadata": {},
   "source": [
    "How do we get the square root of `c_squared`? We'll use a function from a package that we'll import. Packages are 'groups' of code that usually focus on a particular topic. In this case, the code inside the math package, provides different math functions and variables. If possible, try to use an already available package. They tend to be faster and well documented. "
   ]
  },
  {
   "cell_type": "code",
   "execution_count": 21,
   "metadata": {},
   "outputs": [],
   "source": [
    "import math  # This is the syntax for how you import a package into Python; this will import the entire math package\n",
    "\n",
    "from math import sqrt # This will import just the square root function"
   ]
  },
  {
   "cell_type": "code",
   "execution_count": 22,
   "metadata": {},
   "outputs": [
    {
     "name": "stdout",
     "output_type": "stream",
     "text": [
      "Math package:  5.0\n",
      "Just the function itself:  5.0\n"
     ]
    }
   ],
   "source": [
    "print('Math package: ', math.sqrt(c_squared))\n",
    "print('Just the function itself: ', sqrt(c_squared))"
   ]
  },
  {
   "cell_type": "code",
   "execution_count": 23,
   "metadata": {},
   "outputs": [],
   "source": [
    "import numpy as np # This is one of the most commonly used packages in Python; it provides array structures and operations that\n",
    "                   # are extremely fast; orders of magnitude faster than looping one by one"
   ]
  },
  {
   "cell_type": "markdown",
   "metadata": {},
   "source": [
    "Notice the syntax here is different. I was able to specify what I wanted to call the numpy package (e.g. np)\n",
    "Now to use this package, I simply type `np` \n",
    "\n",
    "Also, importing `numpy as np` is a standard way of doing it. You'll see it often in other people's code. "
   ]
  },
  {
   "cell_type": "code",
   "execution_count": 24,
   "metadata": {},
   "outputs": [
    {
     "data": {
      "text/plain": [
       "5.0"
      ]
     },
     "execution_count": 24,
     "metadata": {},
     "output_type": "execute_result"
    }
   ],
   "source": [
    "np.sqrt(c_squared)"
   ]
  },
  {
   "cell_type": "markdown",
   "metadata": {},
   "source": [
    "Same answer as the math package. But we can keep both sqrt functions in our current session by keeping them in their packages. "
   ]
  },
  {
   "cell_type": "markdown",
   "metadata": {},
   "source": [
    "There's an idea in coding called the 'dry' approach. It stands for '<u>d</u>on't <u>r</u>epeat <u>y</u>ourself' and aims for you to be efficient!\n",
    "\n",
    "\n",
    "What this entails is the following idea:\n",
    "- If you need to do something once, do it; hard code it if you need to\n",
    "- If you need to do something twice, write a function (covered below)\n",
    "\n"
   ]
  },
  {
   "cell_type": "markdown",
   "metadata": {},
   "source": [
    "# C. Containers\n",
    "\n",
    "Often you need lists or sequences of different values (e.g., a timeseries of temperature – a list of values representing the temperature on sequential days). There are three containers in the core Python language. There are a few more specialized containers (e.g., numpy arrays and pandas dataframes) for use in scientific computing that we will learn much more about later; they are very similar to the containers we will learn about here."
   ]
  },
  {
   "cell_type": "markdown",
   "metadata": {},
   "source": [
    "## Lists\n",
    "\n",
    "Lists are perhaps the most common container type. They are used for sequential data. This does <b>not</b> mean that they will automatically be in increasing/decreasing order. It means that the order in which the values are placed into the contatiner will be maintained. \n",
    "Create them with square brackets with comma separated values within:"
   ]
  },
  {
   "cell_type": "code",
   "execution_count": null,
   "metadata": {},
   "outputs": [],
   "source": [
    "foo = [1., 2., 3, 'four', 'five', [6., 7., 8], 'nine']\n",
    "type(foo)"
   ]
  },
  {
   "cell_type": "markdown",
   "metadata": {},
   "source": [
    "Note that lists (unlike arrays, as we will later learn) can be heterogeneous. That is, the elements in the list don't have to have the same kind of data type. Here we have a list with floats, ints, strings, and even another (nested) list!\n",
    "\n",
    "We can retrieve the individual elements of a list by 'indexing' the list. We do this with square brackets, using zero-based indexes – that is `0` is the first element – as such:"
   ]
  },
  {
   "cell_type": "markdown",
   "metadata": {},
   "source": [
    "<b>```\n",
    "list  -->  ['test', 'bug', 'tree', 12, 21, 200]\n",
    "index -->      0       1       2    3   4    5\n",
    "```</b>"
   ]
  },
  {
   "cell_type": "code",
   "execution_count": null,
   "metadata": {},
   "outputs": [],
   "source": [
    "foo[0]"
   ]
  },
  {
   "cell_type": "code",
   "execution_count": null,
   "metadata": {},
   "outputs": [],
   "source": [
    "foo[5]"
   ]
  },
  {
   "cell_type": "code",
   "execution_count": null,
   "metadata": {},
   "outputs": [],
   "source": [
    "foo[5][1]  # Python is sequential, we can access an element within an element using sequential indexing."
   ]
  },
  {
   "cell_type": "markdown",
   "metadata": {},
   "source": [
    "You can also index from the reverse direction. "
   ]
  },
  {
   "cell_type": "code",
   "execution_count": null,
   "metadata": {},
   "outputs": [],
   "source": [
    "foo[-1]    # This is the way to access the last element."
   ]
  },
  {
   "cell_type": "code",
   "execution_count": null,
   "metadata": {},
   "outputs": [],
   "source": [
    "foo[-3]    # ...and the third to last element"
   ]
  },
  {
   "cell_type": "code",
   "execution_count": null,
   "metadata": {
    "scrolled": true
   },
   "outputs": [],
   "source": [
    "foo[-3][2]   # we can also index strings."
   ]
  },
  {
   "cell_type": "markdown",
   "metadata": {},
   "source": [
    "This is what's going on above:\n",
    "```\n",
    "foo = 'five'\n",
    "\n",
    "      'f  i  v  e'\n",
    "       0  1  2  3     #forward index\n",
    "      -4 -3 -2 -1     #reverse index\n",
    "```\n"
   ]
  },
  {
   "cell_type": "markdown",
   "metadata": {},
   "source": [
    "Why might you want to do something like that? Perhaps you add a new value to your list each day, such as the high temperature for the day. If you want to know what the high temperature was for the most recent day, you can use the index value for the last element. But how do you know what it is? <br><br>\n",
    "You could do this:\n",
    "\n",
    "```python\n",
    "    daily_temperature = [76,77,75,78,84,87,83,91,88]   # a list of daily temperatures\n",
    "    number_of_temperatures = len(daily_temperature)   #find the length of the daily_temperature and store it\n",
    "    most_recent_temperature = daily_temperature[number_of_temperatures - 1]\n",
    "    \n",
    "```\n",
    "\n",
    "<br>Or you could simply do this:\n",
    "\n",
    "```python\n",
    "    daily_temperature = [76,77,75,78,84,87,83,91,88]   # a list of daily temperatures\n",
    "    most_recent_temperature = daily_temperature[-1] # grab the last value\n",
    "```"
   ]
  },
  {
   "cell_type": "markdown",
   "metadata": {},
   "source": [
    "What if we wanted to know the temperature 1 week ago (i.e. 7 days ago)? You might have guessed:\n",
    "```python\n",
    "    temperature_last_week = daily_temperature[-7] # this should be equal to 75\n",
    "```"
   ]
  },
  {
   "cell_type": "markdown",
   "metadata": {},
   "source": [
    "<b>Question: Why did I have to subtract 1 from the number_of_temperatures variable in that first block? </b>"
   ]
  },
  {
   "cell_type": "markdown",
   "metadata": {},
   "source": [
    "We can get a sub-sequence from the list by giving a range of the data to extract. This is done by using the format\n",
    "\n",
    "    start:stop:stride\n",
    "\n",
    "where `start` is the first element, up to but not including the element indexed by `stop`, taking every `stride` elements. The defaluts are start at the beginning, include through the end, and include every element. \n",
    "\n",
    "The up-to-but-not-including part is confusing to first time Python users, but makes sense given the zero-based indexing. For example, `foo[:10]` gives the first ten elements of a sequence."
   ]
  },
  {
   "cell_type": "code",
   "execution_count": null,
   "metadata": {},
   "outputs": [],
   "source": [
    "# create a sequence of 10 elements, starting with zero, up to but not including 10.\n",
    "bar = [0, 1, 2, 3, 4, 5, 6, 7, 8, 9]"
   ]
  },
  {
   "cell_type": "code",
   "execution_count": null,
   "metadata": {},
   "outputs": [],
   "source": [
    "bar[2:5]"
   ]
  },
  {
   "cell_type": "code",
   "execution_count": null,
   "metadata": {},
   "outputs": [],
   "source": [
    "bar[:4]"
   ]
  },
  {
   "cell_type": "code",
   "execution_count": null,
   "metadata": {},
   "outputs": [],
   "source": [
    "bar[:]"
   ]
  },
  {
   "cell_type": "code",
   "execution_count": null,
   "metadata": {},
   "outputs": [],
   "source": [
    "bar[::2]"
   ]
  },
  {
   "cell_type": "markdown",
   "metadata": {},
   "source": [
    "---\n",
    "###  *Exercise*\n",
    "\n",
    "> Use the list\n",
    "\n",
    "    bar = [0, 1, 2, 3, 4, 5, 6, 7, 8, 9]\n",
    "    \n",
    "> use indexing to get the following sequences:\n",
    "    \n",
    "    \n",
    "    [3, 4, 5]\n",
    "    \n",
    "    [9]        # note this is different than just the last element. \n",
    "               # It is a sequence with only one element, but still a sequence\n",
    "    \n",
    "    [2, 5, 8]\n",
    "\n",
    "> What happens when you exceed the limits of the list?\n",
    "\n",
    "    bar[99]\n",
    "    bar[-99]\n",
    "    bar[5:99]\n",
    "\n",
    "---"
   ]
  },
  {
   "cell_type": "code",
   "execution_count": 4,
   "metadata": {},
   "outputs": [],
   "source": [
    "t = ['string']\n",
    "t.reverse()"
   ]
  },
  {
   "cell_type": "code",
   "execution_count": null,
   "metadata": {},
   "outputs": [],
   "source": []
  },
  {
   "cell_type": "markdown",
   "metadata": {},
   "source": [
    "You can assign values to list elements by putting the indexed list on the right side of the assignment, as"
   ]
  },
  {
   "cell_type": "code",
   "execution_count": null,
   "metadata": {},
   "outputs": [],
   "source": [
    "bar[5] = -99\n",
    "bar"
   ]
  },
  {
   "cell_type": "markdown",
   "metadata": {},
   "source": [
    "This works for sequences as well,"
   ]
  },
  {
   "cell_type": "code",
   "execution_count": null,
   "metadata": {},
   "outputs": [],
   "source": [
    "bar[2:7] = [1, 1, 1, 1, 1, 1, 1, 1]\n",
    "bar"
   ]
  },
  {
   "cell_type": "markdown",
   "metadata": {},
   "source": [
    "Lists are also 'objects'; they also have 'methods'. Methods are functions that are designed to be applied to the data contained in the list. You can access them by putting a dot and the method name after the variable (called an 'object instance')"
   ]
  },
  {
   "cell_type": "code",
   "execution_count": null,
   "metadata": {},
   "outputs": [],
   "source": [
    "bar.insert(5, 'here')\n",
    "bar"
   ]
  },
  {
   "cell_type": "code",
   "execution_count": null,
   "metadata": {},
   "outputs": [],
   "source": [
    "bar = [4, 5, 6, 7, 3, 6, 7, 3, 5, 7, 9]\n",
    "bar.sort()    # Note that we don't do 'bar = bar.sort()'. The sorting is done in place.\n",
    "bar"
   ]
  },
  {
   "cell_type": "markdown",
   "metadata": {},
   "source": [
    "You may be wondering about that 'in place' mentioned above. What this means is that the `sort` is done on the object itself rather than returning a new object. This may sound odd to you right now and that's okay. We'll see this more as me move forward into Python. <br>\n",
    "But....you're probably curious. If we did this:"
   ]
  },
  {
   "cell_type": "code",
   "execution_count": null,
   "metadata": {},
   "outputs": [],
   "source": [
    "bar = bar.sort()\n",
    "print(bar)"
   ]
  },
  {
   "cell_type": "markdown",
   "metadata": {},
   "source": [
    "The `bar.sort()` returns `None` and stores this as the variable `bar`. It overwrites our original list! "
   ]
  },
  {
   "cell_type": "code",
   "execution_count": null,
   "metadata": {},
   "outputs": [],
   "source": [
    "# restore bar for use in the exerise below\n",
    "bar = [4, 5, 6, 7, 3, 6, 7, 3, 5, 7, 9]"
   ]
  },
  {
   "cell_type": "markdown",
   "metadata": {},
   "source": [
    "---\n",
    "### *Exercise*\n",
    "\n",
    "> What other methods are there? Type `bar.` and then `<TAB>`. This will show the possible completions, which in this case is a list of the methods and attributes. You can get help on a method by typing, for example, `bar.pop?`.  The text in the help file is called a `docstring`; as we will see below, you can write these for your own functions.\n",
    "\n",
    "> See if you can use these four methods of the list instance `bar`:\n",
    "\n",
    "            1. append\n",
    "            2. pop\n",
    "            3. index\n",
    "            4. count\n",
    "\n",
    "\n",
    "---"
   ]
  },
  {
   "cell_type": "code",
   "execution_count": 5,
   "metadata": {},
   "outputs": [
    {
     "data": {
      "text/plain": [
       "[1, 2, 3, 4, 5, 6]"
      ]
     },
     "execution_count": 5,
     "metadata": {},
     "output_type": "execute_result"
    }
   ],
   "source": [
    "[1,2,3] + [4,5,6]"
   ]
  },
  {
   "cell_type": "code",
   "execution_count": 6,
   "metadata": {},
   "outputs": [
    {
     "data": {
      "text/plain": [
       "[1, 2, 3, 4, 5, 6]"
      ]
     },
     "execution_count": 6,
     "metadata": {},
     "output_type": "execute_result"
    }
   ],
   "source": [
    "[1,2,3].__add__([4,5,6])"
   ]
  },
  {
   "cell_type": "markdown",
   "metadata": {},
   "source": [
    "## Tuples\n",
    "\n",
    "Tuples (pronounced `too'-puls`) are sequences that can't be modified, and don't have methods. Thus, they are designed to be immutable sequences. They are created like lists, but with parentheses instead of square brackets.\n",
    "<br><br>\n",
    "mutable --> adaptable, flexible, able to change\n"
   ]
  },
  {
   "cell_type": "code",
   "execution_count": null,
   "metadata": {},
   "outputs": [],
   "source": [
    "foo = (3, 5, 7, 9)\n",
    "# foo[2] = -999  # gives an assignment error. Commented so that all cells run."
   ]
  },
  {
   "cell_type": "markdown",
   "metadata": {},
   "source": [
    "Tuples are often used when a function has multiple outputs, or as a lightweight storage container. Because of this, you don't need to put the parentheses around them, and can assign multiple values at a time."
   ]
  },
  {
   "cell_type": "code",
   "execution_count": null,
   "metadata": {},
   "outputs": [],
   "source": [
    "temp = 1,2,3,4\n",
    "temp"
   ]
  },
  {
   "cell_type": "code",
   "execution_count": null,
   "metadata": {},
   "outputs": [],
   "source": [
    "a, b, c = 1, 2, 3   # Equivalent to '(a, b, c) = (1, 2, 3)'\n",
    "print(b)"
   ]
  },
  {
   "cell_type": "markdown",
   "metadata": {},
   "source": [
    "## Dictionaries\n",
    "\n",
    "Dictionaries are used for <b>unordered</b> sequences that are referenced by arbitrary 'keys' instead of by a (sequential) index. Dictionaries are created using curly braces with keys and values separated by a colon, and key:value pairs separated by commas."
   ]
  },
  {
   "cell_type": "code",
   "execution_count": null,
   "metadata": {},
   "outputs": [],
   "source": [
    "foobar = {'a':3, 'b':4, 'c':5}"
   ]
  },
  {
   "cell_type": "markdown",
   "metadata": {},
   "source": [
    "Elements are referenced and assigned by keys:"
   ]
  },
  {
   "cell_type": "code",
   "execution_count": null,
   "metadata": {},
   "outputs": [],
   "source": [
    "foobar['b']"
   ]
  },
  {
   "cell_type": "code",
   "execution_count": null,
   "metadata": {},
   "outputs": [],
   "source": [
    "foobar['c'] = -99\n",
    "foobar"
   ]
  },
  {
   "cell_type": "markdown",
   "metadata": {},
   "source": [
    "The keys and values can be extracted as lists using methods of the dictionary class."
   ]
  },
  {
   "cell_type": "code",
   "execution_count": null,
   "metadata": {},
   "outputs": [],
   "source": [
    "foobar.keys()"
   ]
  },
  {
   "cell_type": "code",
   "execution_count": null,
   "metadata": {},
   "outputs": [],
   "source": [
    "foobar.values()"
   ]
  },
  {
   "cell_type": "markdown",
   "metadata": {},
   "source": [
    "New values can be added to the dictionary simply by assigning a value to a key that does not exist yet."
   ]
  },
  {
   "cell_type": "code",
   "execution_count": null,
   "metadata": {},
   "outputs": [],
   "source": [
    "foobar['spam'] = 'eggs'\n",
    "foobar"
   ]
  },
  {
   "cell_type": "markdown",
   "metadata": {},
   "source": [
    "---\n",
    "### *Exercise*\n",
    "\n",
    "> Create a dictionary variable with at least 3 entries. The entry keys should be the first name of people around you in the class, and the value should be their favorite food.\n",
    "\n",
    "> Explore the methods of the dictionary object, as was done with the list instance in the previous exercise.\n",
    "\n",
    "\n",
    "---"
   ]
  },
  {
   "cell_type": "code",
   "execution_count": null,
   "metadata": {},
   "outputs": [],
   "source": []
  },
  {
   "cell_type": "markdown",
   "metadata": {},
   "source": [
    "You can make an empty dictionary or list by using the `dict` and `list` functions respectively."
   ]
  },
  {
   "cell_type": "code",
   "execution_count": null,
   "metadata": {},
   "outputs": [],
   "source": [
    "empty_dict = dict()\n",
    "empty_list = list()\n",
    "print(empty_dict, empty_list)"
   ]
  },
  {
   "cell_type": "markdown",
   "metadata": {},
   "source": [
    "You can also do this by simply putting the empty brackets."
   ]
  },
  {
   "cell_type": "code",
   "execution_count": null,
   "metadata": {},
   "outputs": [],
   "source": [
    "empty_dict = {}\n",
    "empty_list = []\n",
    "print(empty_dict, empty_list)"
   ]
  },
  {
   "cell_type": "markdown",
   "metadata": {},
   "source": [
    "# D. Tests for equality and inequality\n",
    "\n",
    "We can test the values of variables using different operators. These tests return a `Boolean` value. Either `True` or `False`. `False` is the same as zero, `True` is nonzero. Note that assignment `=` is different than a test of equality `==`."
   ]
  },
  {
   "cell_type": "code",
   "execution_count": null,
   "metadata": {},
   "outputs": [],
   "source": [
    "a = 5\n",
    "b = a + 3.1415\n",
    "c = a / b  # What about a // b? b // a ? \n"
   ]
  },
  {
   "cell_type": "code",
   "execution_count": null,
   "metadata": {},
   "outputs": [],
   "source": [
    "a < 99"
   ]
  },
  {
   "cell_type": "code",
   "execution_count": null,
   "metadata": {},
   "outputs": [],
   "source": [
    "a > 99"
   ]
  },
  {
   "cell_type": "code",
   "execution_count": null,
   "metadata": {},
   "outputs": [],
   "source": [
    "a == 5."
   ]
  },
  {
   "cell_type": "markdown",
   "metadata": {},
   "source": [
    "These statements have returned \"booleans\", which are `True` and `False` only. These are commonly used to check for conditions within a script or function to determine the next course of action.\n",
    "\n",
    "NOTE: booleans are NOT equivalent to a string that says \"True\" or \"False\". This is similar to a string that contains a number like we saw above. We can test this:"
   ]
  },
  {
   "cell_type": "code",
   "execution_count": null,
   "metadata": {},
   "outputs": [],
   "source": [
    "True == 'True'  #not equivalent"
   ]
  },
  {
   "cell_type": "code",
   "execution_count": null,
   "metadata": {},
   "outputs": [],
   "source": [
    "True == True   #equivalent"
   ]
  },
  {
   "cell_type": "markdown",
   "metadata": {},
   "source": [
    "There are other things that can be tested, not just mathematical equalities. For example, to test if an element is inside of a list or string (or any sequence), do:"
   ]
  },
  {
   "cell_type": "code",
   "execution_count": null,
   "metadata": {},
   "outputs": [],
   "source": [
    "foo = [1, 2, 3, 4, 5 ,6]\n",
    "5 in foo  #this is asking the question of \"Is the number 5 anywhere in the list called foo?\""
   ]
  },
  {
   "cell_type": "code",
   "execution_count": null,
   "metadata": {},
   "outputs": [],
   "source": [
    "'this' in 'What is this?'"
   ]
  },
  {
   "cell_type": "code",
   "execution_count": null,
   "metadata": {},
   "outputs": [],
   "source": [
    "'that' in 'What is this?'"
   ]
  },
  {
   "cell_type": "markdown",
   "metadata": {},
   "source": [
    "# E. Quick Intro to functions\n",
    "### Functions\n",
    "*Oversimplification*: These are blocks of code that are designed to *do* something. \n",
    "\n",
    "Functions allow us to write code that we can use in the future. When we take a series of code statements and put them in a function, we can reuse that code to take in inputs, perform calculations or other manipulations, and return outputs, just like a function in math. If a task needs to be done repeatedly then put that task into a function.\n",
    "\n",
    "A function is defined like this:\n",
    "\n",
    "`def my_function_name():     \n",
    "    code for my function     \n",
    "    more code for my function\n",
    "    return the result         `  \n",
    "    \n",
    "    \n",
    "Let's put the Pythagorean equation from above into a function so that we can use it over and over again with any size triangle!"
   ]
  },
  {
   "cell_type": "code",
   "execution_count": 1,
   "metadata": {},
   "outputs": [],
   "source": [
    "def pythagorean(a,b):\n",
    "    c_squared = a**2 + b**2\n",
    "    c = math.sqrt(c_squared)\n",
    "    return c"
   ]
  },
  {
   "cell_type": "markdown",
   "metadata": {},
   "source": [
    "That's our simple function. Let's break it down:\n",
    "\n",
    "`def pythagorean(a,b):`<br> \n",
    "The <span style=\"color:green\">**def**</span> is a keyword that means define, as in define a function (create a function). <br>\n",
    "<span style=\"color:blue\">pythagorean</span> is the name of our function. It's what we'll type in below in order to use our new function.<br>\n",
    "`(a,b)` these are called arguments and give a way for us to provide different input values to our function<br>\n",
    "`:` this colon is required and specifies that we're about to have a code block below. <br>\n",
    "<br>\n",
    "We then have two lines of code where we conduct our operation. And lastly, <br>\n",
    "\n",
    "<span style=\"color:green\">**return**</span> c this line will return back to us the value of c. We can either print it out or save it into another variable"
   ]
  },
  {
   "cell_type": "code",
   "execution_count": 27,
   "metadata": {},
   "outputs": [
    {
     "data": {
      "text/plain": [
       "5.0"
      ]
     },
     "execution_count": 27,
     "metadata": {},
     "output_type": "execute_result"
    }
   ],
   "source": [
    "# Let's use our function!\n",
    "\n",
    "pythagorean(3,4)"
   ]
  },
  {
   "cell_type": "markdown",
   "metadata": {},
   "source": [
    "Great! It matches the answer we obtained above! Notice how I fed it numbers in? We can give it numbers, we can give it other variables too!"
   ]
  },
  {
   "cell_type": "code",
   "execution_count": 28,
   "metadata": {},
   "outputs": [
    {
     "data": {
      "text/plain": [
       "5.0"
      ]
     },
     "execution_count": 28,
     "metadata": {},
     "output_type": "execute_result"
    }
   ],
   "source": [
    "pythagorean(a,b)"
   ]
  },
  {
   "cell_type": "code",
   "execution_count": 30,
   "metadata": {},
   "outputs": [
    {
     "data": {
      "text/plain": [
       "9.848857801796104"
      ]
     },
     "execution_count": 30,
     "metadata": {},
     "output_type": "execute_result"
    }
   ],
   "source": [
    "c = 9\n",
    "pythagorean(c, b)"
   ]
  },
  {
   "cell_type": "code",
   "execution_count": 31,
   "metadata": {},
   "outputs": [],
   "source": [
    "output = pythagorean(c, b)"
   ]
  },
  {
   "cell_type": "code",
   "execution_count": 32,
   "metadata": {
    "scrolled": true
   },
   "outputs": [
    {
     "name": "stdout",
     "output_type": "stream",
     "text": [
      "9.848857801796104\n"
     ]
    }
   ],
   "source": [
    "print(output)"
   ]
  },
  {
   "cell_type": "markdown",
   "metadata": {},
   "source": [
    "Here we have a function called `display_and_capitalize_string` which takes in a string, prints that string, and then returns the same string but with it capitalized."
   ]
  },
  {
   "cell_type": "code",
   "execution_count": null,
   "metadata": {},
   "outputs": [],
   "source": [
    "def display_and_capitalize_string(input_str):\n",
    "    '''Documentation for this function, which can span\n",
    "    multiple lines since triple quotes are used for this.\n",
    "    \n",
    "    Takes in a string, prints that string, and then returns the same string but with it capitalized.'''\n",
    "    \n",
    "    print(input_str)  # print out to the screen the string that was input, called `input_str`\n",
    "    \n",
    "    new_string = input_str.capitalize()  # use built-in method for a string to capitalize it\n",
    "    \n",
    "    return new_string\n",
    "    "
   ]
  },
  {
   "cell_type": "code",
   "execution_count": null,
   "metadata": {},
   "outputs": [],
   "source": [
    "display_and_capitalize_string('hi')"
   ]
  },
  {
   "cell_type": "markdown",
   "metadata": {},
   "source": [
    "---\n",
    "\n",
    "### *Exercise*\n",
    "\n",
    "> Write your own functions that do the following:<br>\n",
    "    1. Take in a number and return that number plus 10.<br>\n",
    "    2. Take in a variable and return the `type` of the variable.\n",
    "\n",
    "---"
   ]
  },
  {
   "cell_type": "code",
   "execution_count": null,
   "metadata": {},
   "outputs": [],
   "source": []
  },
  {
   "cell_type": "code",
   "execution_count": null,
   "metadata": {},
   "outputs": [],
   "source": []
  },
  {
   "cell_type": "markdown",
   "metadata": {},
   "source": [
    "Equality checks are commonly used to test the outcome of a function to make sure it is performing as expected and desire. We can test the function we wrote before to see if it works the way we expect and want it to. Here are three different ways to test the outcome of the same input/output pair."
   ]
  },
  {
   "cell_type": "code",
   "execution_count": null,
   "metadata": {},
   "outputs": [],
   "source": [
    "out_string = display_and_capitalize_string('banana')\n",
    "assert(out_string == 'Banana')"
   ]
  },
  {
   "cell_type": "code",
   "execution_count": null,
   "metadata": {},
   "outputs": [],
   "source": [
    "import unittest\n",
    "test = unittest.TestCase()\n",
    "test.assertEqual(out_string, \"Banana\")"
   ]
  },
  {
   "cell_type": "code",
   "execution_count": null,
   "metadata": {},
   "outputs": [],
   "source": [
    "assert(out_string[0].isupper())"
   ]
  },
  {
   "cell_type": "markdown",
   "metadata": {},
   "source": [
    "We know that the assert statements passed because no error was thrown. On the other hand, the following test does not run successfully:"
   ]
  },
  {
   "cell_type": "code",
   "execution_count": null,
   "metadata": {},
   "outputs": [],
   "source": [
    "assert(out_string=='BANANA')"
   ]
  },
  {
   "cell_type": "markdown",
   "metadata": {},
   "source": [
    "---\n",
    "\n",
    "### *Exercise*\n",
    "\n",
    "> Write tests using assertions to check how well your functions from the previous exercise are working.\n",
    "\n",
    "---"
   ]
  },
  {
   "cell_type": "code",
   "execution_count": 3,
   "metadata": {},
   "outputs": [],
   "source": [
    "a = [print, max]"
   ]
  },
  {
   "cell_type": "code",
   "execution_count": 4,
   "metadata": {},
   "outputs": [
    {
     "data": {
      "text/plain": [
       "[<function print>, <function max>]"
      ]
     },
     "execution_count": 4,
     "metadata": {},
     "output_type": "execute_result"
    }
   ],
   "source": [
    "a"
   ]
  },
  {
   "cell_type": "code",
   "execution_count": null,
   "metadata": {},
   "outputs": [],
   "source": []
  }
 ],
 "metadata": {
  "anaconda-cloud": {},
  "kernelspec": {
   "display_name": "Python 3",
   "language": "python",
   "name": "python3"
  },
  "language_info": {
   "codemirror_mode": {
    "name": "ipython",
    "version": 3
   },
   "file_extension": ".py",
   "mimetype": "text/x-python",
   "name": "python",
   "nbconvert_exporter": "python",
   "pygments_lexer": "ipython3",
   "version": "3.6.12"
  }
 },
 "nbformat": 4,
 "nbformat_minor": 1
}
